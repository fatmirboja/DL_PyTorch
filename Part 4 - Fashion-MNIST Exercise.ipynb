{
 "cells": [
  {
   "cell_type": "markdown",
   "metadata": {
    "deletable": true,
    "editable": true
   },
   "source": [
    "# Classifying Fashion-MNIST\n",
    "\n",
    "Now it's your turn to build and train a neural network. You'll be using the [Fashion-MNIST dataset](https://github.com/zalandoresearch/fashion-mnist), a drop-in replacement for the MNIST dataset. MNIST is actually quite trivial with neural networks where you can easily achieve better than 97% accuracy. Fashion-MNIST is a set of 28x28 greyscale images of clothes. It's more complex than MNIST, so it's a better representation of the actual performance of your network, and a better representation of datasets you'll use in the real world.\n",
    "\n",
    "<img src='assets/fashion-mnist-sprite.png' width=500px>\n",
    "\n",
    "In this notebook, you'll build your own neural network. For the most part, you could just copy and paste the code from Part 3, but you wouldn't be learning. It's important for you to write the code yourself and get it to work. Feel free to consult the previous notebook though as you work through this.\n",
    "\n",
    "First off, let's load the dataset through torchvision."
   ]
  },
  {
   "cell_type": "code",
   "execution_count": 18,
   "metadata": {
    "collapsed": false,
    "deletable": true,
    "editable": true
   },
   "outputs": [],
   "source": [
    "import torch\n",
    "from torchvision import datasets, transforms\n",
    "import helper\n",
    "import matplotlib.pyplot as plt\n",
    "\n",
    "# Define a transform to normalize the data\n",
    "transform = transforms.Compose([transforms.ToTensor(),\n",
    "                                transforms.Normalize((0.5, 0.5, 0.5), (0.5, 0.5, 0.5))])\n",
    "# Download and load the training data\n",
    "trainset = datasets.FashionMNIST('F_MNIST_data/', download=True, train=True, transform=transform)\n",
    "trainloader = torch.utils.data.DataLoader(trainset, batch_size=64, shuffle=True)\n",
    "\n",
    "# Download and load the test data\n",
    "testset = datasets.FashionMNIST('F_MNIST_data/', download=True, train=False, transform=transform)\n",
    "testloader = torch.utils.data.DataLoader(testset, batch_size=64, shuffle=True)"
   ]
  },
  {
   "cell_type": "markdown",
   "metadata": {
    "deletable": true,
    "editable": true
   },
   "source": [
    "Here we can see one of the images."
   ]
  },
  {
   "cell_type": "code",
   "execution_count": 26,
   "metadata": {
    "collapsed": false,
    "deletable": true,
    "editable": true
   },
   "outputs": [],
   "source": [
    "image, label = next(iter(trainloader))\n",
    "helper.imshow(image[0,:]);"
   ]
  },
  {
   "cell_type": "markdown",
   "metadata": {
    "deletable": true,
    "editable": true
   },
   "source": [
    "With the data loaded, it's time to import the necessary packages."
   ]
  },
  {
   "cell_type": "code",
   "execution_count": 27,
   "metadata": {
    "collapsed": true,
    "deletable": true,
    "editable": true
   },
   "outputs": [],
   "source": [
    "%matplotlib inline\n",
    "%config InlineBackend.figure_format = 'retina'\n",
    "\n",
    "import matplotlib.pyplot as plt\n",
    "import numpy as np\n",
    "import time\n",
    "\n",
    "import torch\n",
    "from torch import nn\n",
    "from torch import optim\n",
    "import torch.nn.functional as F\n",
    "from torchvision import datasets, transforms\n",
    "\n",
    "import helper"
   ]
  },
  {
   "cell_type": "markdown",
   "metadata": {
    "deletable": true,
    "editable": true
   },
   "source": [
    "## Building the network\n",
    "\n",
    "Here you should define your network. As with MNIST, each image is 28x28 which is a total of 784 pixels, and there are 10 classes. You should include at least one hidden layer. We suggest you use ReLU activations for the layers and to return the logits from the forward pass. It's up to you how many layers you add and the size of those layers."
   ]
  },
  {
   "cell_type": "code",
   "execution_count": 31,
   "metadata": {
    "collapsed": false,
    "deletable": true,
    "editable": true
   },
   "outputs": [],
   "source": [
    "from collections import OrderedDict\n",
    "\n",
    "input_size = 784\n",
    "hidden_sizes = [256, 128, 64]\n",
    "output_size = 10\n",
    "\n",
    "model = nn.Sequential(OrderedDict([\n",
    "    ('fc1', nn.Linear(input_size, hidden_sizes[0])),\n",
    "    ('relu1', nn.ReLU()),\n",
    "    ('fc2', nn.Linear(hidden_sizes[0], hidden_sizes[1])),\n",
    "    ('relu2', nn.ReLU()),\n",
    "    ('fc3', nn.Linear(hidden_sizes[1], hidden_sizes[2])),\n",
    "    ('relu3', nn.ReLU()),\n",
    "    ('logits', nn.Linear(hidden_sizes[2], output_size))\n",
    "]))"
   ]
  },
  {
   "cell_type": "markdown",
   "metadata": {
    "deletable": true,
    "editable": true
   },
   "source": [
    "# Train the network\n",
    "\n",
    "Now you should create your network and train it. First you'll want to define [the criterion](http://pytorch.org/docs/master/nn.html#loss-functions) ( something like `nn.CrossEntropyLoss`) and [the optimizer](http://pytorch.org/docs/master/optim.html) (typically `optim.SGD` or `optim.Adam`).\n",
    "\n",
    "Then write the training code. Remember the training pass is a fairly straightforward process:\n",
    "\n",
    "* Make a forward pass through the network to get the logits \n",
    "* Use the logits to calculate the loss\n",
    "* Perform a backward pass through the network with `loss.backward()` to calculate the gradients\n",
    "* Take a step with the optimizer to update the weights\n",
    "\n",
    "By adjusting the hyperparameters (hidden units, learning rate, etc), you should be able to get the training loss below 0.4."
   ]
  },
  {
   "cell_type": "code",
   "execution_count": 55,
   "metadata": {
    "collapsed": false,
    "deletable": true,
    "editable": true
   },
   "outputs": [],
   "source": [
    "# Create the network, define the criterion and optimizer\n",
    "criterion = nn.CrossEntropyLoss()\n",
    "optimizer = optim.SGD(model.parameters(), lr=0.01)"
   ]
  },
  {
   "cell_type": "code",
   "execution_count": 56,
   "metadata": {
    "collapsed": false,
    "deletable": true,
    "editable": true,
    "scrolled": true
   },
   "outputs": [
    {
     "name": "stdout",
     "output_type": "stream",
     "text": [
      "Epoch: 1/3...  Loss: 2.2931\n",
      "Epoch: 1/3...  Loss: 2.2779\n",
      "Epoch: 1/3...  Loss: 2.2568\n",
      "Epoch: 1/3...  Loss: 2.2322\n",
      "Epoch: 1/3...  Loss: 2.1973\n",
      "Epoch: 1/3...  Loss: 2.1410\n",
      "Epoch: 1/3...  Loss: 2.0804\n",
      "Epoch: 1/3...  Loss: 1.9870\n",
      "Epoch: 1/3...  Loss: 1.8936\n",
      "Epoch: 1/3...  Loss: 1.7705\n",
      "Epoch: 1/3...  Loss: 1.6380\n",
      "Epoch: 1/3...  Loss: 1.4944\n",
      "Epoch: 1/3...  Loss: 1.4036\n",
      "Epoch: 1/3...  Loss: 1.2956\n",
      "Epoch: 1/3...  Loss: 1.1932\n",
      "Epoch: 1/3...  Loss: 1.1484\n",
      "Epoch: 1/3...  Loss: 1.0705\n",
      "Epoch: 1/3...  Loss: 1.0410\n",
      "Epoch: 1/3...  Loss: 0.9870\n",
      "Epoch: 1/3...  Loss: 0.9455\n",
      "Epoch: 1/3...  Loss: 0.8932\n",
      "Epoch: 1/3...  Loss: 0.8457\n",
      "Epoch: 1/3...  Loss: 0.8508\n",
      "Epoch: 1/3...  Loss: 0.8134\n",
      "Epoch: 1/3...  Loss: 0.8108\n",
      "Epoch: 1/3...  Loss: 0.8183\n",
      "Epoch: 1/3...  Loss: 0.7863\n",
      "Epoch: 1/3...  Loss: 0.7495\n",
      "Epoch: 1/3...  Loss: 0.7263\n",
      "Epoch: 1/3...  Loss: 0.7409\n",
      "Epoch: 1/3...  Loss: 0.7376\n",
      "Epoch: 2/3...  Loss: 0.5395\n",
      "Epoch: 2/3...  Loss: 0.7008\n",
      "Epoch: 2/3...  Loss: 0.6544\n",
      "Epoch: 2/3...  Loss: 0.6406\n",
      "Epoch: 2/3...  Loss: 0.6960\n",
      "Epoch: 2/3...  Loss: 0.6644\n",
      "Epoch: 2/3...  Loss: 0.6523\n",
      "Epoch: 2/3...  Loss: 0.6457\n",
      "Epoch: 2/3...  Loss: 0.6636\n",
      "Epoch: 2/3...  Loss: 0.6723\n",
      "Epoch: 2/3...  Loss: 0.6493\n",
      "Epoch: 2/3...  Loss: 0.6333\n",
      "Epoch: 2/3...  Loss: 0.6276\n",
      "Epoch: 2/3...  Loss: 0.6505\n",
      "Epoch: 2/3...  Loss: 0.6158\n",
      "Epoch: 2/3...  Loss: 0.6228\n",
      "Epoch: 2/3...  Loss: 0.5997\n",
      "Epoch: 2/3...  Loss: 0.6293\n",
      "Epoch: 2/3...  Loss: 0.6034\n",
      "Epoch: 2/3...  Loss: 0.6342\n",
      "Epoch: 2/3...  Loss: 0.5973\n",
      "Epoch: 2/3...  Loss: 0.5853\n",
      "Epoch: 2/3...  Loss: 0.5838\n",
      "Epoch: 2/3...  Loss: 0.5988\n",
      "Epoch: 2/3...  Loss: 0.5694\n",
      "Epoch: 2/3...  Loss: 0.5854\n",
      "Epoch: 2/3...  Loss: 0.5170\n",
      "Epoch: 2/3...  Loss: 0.5815\n",
      "Epoch: 2/3...  Loss: 0.5381\n",
      "Epoch: 2/3...  Loss: 0.5447\n",
      "Epoch: 2/3...  Loss: 0.5776\n",
      "Epoch: 3/3...  Loss: 0.2867\n",
      "Epoch: 3/3...  Loss: 0.5677\n",
      "Epoch: 3/3...  Loss: 0.5655\n",
      "Epoch: 3/3...  Loss: 0.5396\n",
      "Epoch: 3/3...  Loss: 0.5182\n",
      "Epoch: 3/3...  Loss: 0.5321\n",
      "Epoch: 3/3...  Loss: 0.5380\n",
      "Epoch: 3/3...  Loss: 0.5565\n",
      "Epoch: 3/3...  Loss: 0.5444\n",
      "Epoch: 3/3...  Loss: 0.5430\n",
      "Epoch: 3/3...  Loss: 0.4955\n",
      "Epoch: 3/3...  Loss: 0.5357\n",
      "Epoch: 3/3...  Loss: 0.5534\n",
      "Epoch: 3/3...  Loss: 0.5272\n",
      "Epoch: 3/3...  Loss: 0.5453\n",
      "Epoch: 3/3...  Loss: 0.5301\n",
      "Epoch: 3/3...  Loss: 0.5045\n",
      "Epoch: 3/3...  Loss: 0.5522\n",
      "Epoch: 3/3...  Loss: 0.5163\n",
      "Epoch: 3/3...  Loss: 0.5323\n",
      "Epoch: 3/3...  Loss: 0.5156\n",
      "Epoch: 3/3...  Loss: 0.5260\n",
      "Epoch: 3/3...  Loss: 0.4903\n",
      "Epoch: 3/3...  Loss: 0.5222\n",
      "Epoch: 3/3...  Loss: 0.5167\n",
      "Epoch: 3/3...  Loss: 0.5118\n",
      "Epoch: 3/3...  Loss: 0.5154\n",
      "Epoch: 3/3...  Loss: 0.4845\n",
      "Epoch: 3/3...  Loss: 0.4843\n",
      "Epoch: 3/3...  Loss: 0.5111\n",
      "Epoch: 3/3...  Loss: 0.4891\n"
     ]
    }
   ],
   "source": [
    "# Train the network here\n",
    "epochs = 3\n",
    "print_every = 30\n",
    "steps = 0\n",
    "\n",
    "for e in range(epochs):\n",
    "    running_loss = 0\n",
    "    \n",
    "    for images, labels in iter(trainloader):\n",
    "        steps += 1\n",
    "        \n",
    "        # flatten the images\n",
    "        images.resize_(images.size()[0], 784)\n",
    "        \n",
    "        optimizer.zero_grad()\n",
    "        \n",
    "        output = model.forward(images)\n",
    "        loss = criterion(output, labels)\n",
    "        loss.backward()\n",
    "        optimizer.step()\n",
    "        \n",
    "        running_loss += loss.item()\n",
    "        \n",
    "        if steps % print_every == 0:\n",
    "            print(\"Epoch: {}/{}... \".format(e+1, epochs),\n",
    "                  \"Loss: {:.4f}\".format(running_loss/print_every))\n",
    "            running_loss = 0"
   ]
  },
  {
   "cell_type": "code",
   "execution_count": 62,
   "metadata": {
    "collapsed": false,
    "deletable": true,
    "editable": true
   },
   "outputs": [
    {
     "data": {
      "image/png": "[encoded data removed]",
      "text/plain": [
       "<Figure size 432x648 with 2 Axes>"
      ]
     },
     "metadata": {
      "image/png": {
       "height": 204,
       "width": 423
      }
     },
     "output_type": "display_data"
    }
   ],
   "source": [
    "# Test out your network!\n",
    "\n",
    "dataiter = iter(testloader)\n",
    "images, labels = dataiter.next()\n",
    "img = images[0]\n",
    "# Convert 2D image to 1D vector\n",
    "img = img.resize_(1, 784)\n",
    "\n",
    "with torch.no_grad():\n",
    "    logits = model.forward(img)\n",
    "\n",
    "# Calculate the class probabilities (softmax) for img\n",
    "ps = F.softmax(logits, dim=1)\n",
    "\n",
    "# Plot the image and probabilities\n",
    "helper.view_classify(img.resize_(1, 28, 28), ps, version='Fashion')"
   ]
  },
  {
   "cell_type": "markdown",
   "metadata": {
    "deletable": true,
    "editable": true
   },
   "source": [
    "Now that your network is trained, you'll want to save it to disk so you can load it later instead of training it again. Obviously, it's impractical to train a network every time you need one. In practice, you'll train it once, save the model, then reload it for further training or making predictions. In the next part, I'll show you how to save and load trained models."
   ]
  }
 ],
 "metadata": {
  "kernelspec": {
   "display_name": "Python 3",
   "language": "python",
   "name": "python3"
  },
  "language_info": {
   "codemirror_mode": {
    "name": "ipython",
    "version": 3
   },
   "file_extension": ".py",
   "mimetype": "text/x-python",
   "name": "python",
   "nbconvert_exporter": "python",
   "pygments_lexer": "ipython3",
   "version": "3.6.4"
  }
 },
 "nbformat": 4,
 "nbformat_minor": 2
}
